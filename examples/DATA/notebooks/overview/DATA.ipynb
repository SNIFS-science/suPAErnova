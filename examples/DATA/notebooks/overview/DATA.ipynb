{
 "cells": [
  {
   "cell_type": "code",
   "execution_count": null,
   "id": "c33feec2-dc8a-48db-896f-ea00d4a752da",
   "metadata": {},
   "outputs": [],
   "source": [
    "%matplotlib inline\n",
    "\n",
    "import suPAErnova as snpae\n",
    "from pathlib import Path\n",
    "\n",
    "import matplotlib.pyplot as plt\n",
    "import matplotlib.image as mpimg\n",
    "\n",
    "# Some useful paths to have access to\n",
    "cwd = Path.cwd()\n",
    "examples_dir = cwd.parent.parent.parent\n",
    "data_dir = examples_dir / \"suPAErnova_data\" # Put your data into this directory"
   ]
  },
  {
   "cell_type": "markdown",
   "id": "01e901be-45c1-432f-a665-9abc50f0e0f5",
   "metadata": {},
   "source": [
    "# Global Configuration"
   ]
  },
  {
   "cell_type": "code",
   "execution_count": null,
   "id": "e2e5991d-f7ea-461d-bfc1-da3019afcba4",
   "metadata": {
    "editable": true,
    "slideshow": {
     "slide_type": ""
    },
    "tags": []
   },
   "outputs": [],
   "source": [
    "verbose = False # Increase log verbosity\n",
    "force = False # Don't rerun steps if not necessary\n",
    "\n",
    "cfg = snpae.setup_global_config({}, verbose=verbose, force=force) # Just pass an empty dictionary to initialise"
   ]
  },
  {
   "cell_type": "markdown",
   "id": "dd93146e-4e0d-43a7-b53b-674f5ac7bd68",
   "metadata": {},
   "source": [
    "# Data Configuration\n",
    "If we just tried to run `DATA` without providing the required options, then `SuPAErnova` will fail, providing a (hopefully) useful description of what's missing."
   ]
  },
  {
   "cell_type": "code",
   "execution_count": null,
   "id": "efedcbb4-cf88-4c30-a329-2617cc673d7e",
   "metadata": {
    "editable": true,
    "slideshow": {
     "slide_type": ""
    },
    "tags": [
     "raises-exception"
    ]
   },
   "outputs": [],
   "source": [
    "cfg[\"DATA\"] = {}\n",
    "data = snpae.steps.DATAStep(cfg)"
   ]
  },
  {
   "cell_type": "markdown",
   "id": "f45e5cde-384c-40ff-8dbc-bd33821e9f39",
   "metadata": {},
   "source": [
    "Let's instead actually provide proper configuration options"
   ]
  },
  {
   "cell_type": "code",
   "execution_count": null,
   "id": "5ae6503e-3b48-4cac-857f-ae87a1938e6f",
   "metadata": {},
   "outputs": [],
   "source": [
    "# Note that these keys *MUST* be captilalised. This is not the case when using a `suPAErnova.toml` config file.\n",
    "data_cfg = {\n",
    "    # === Required Keys ===\n",
    "\n",
    "    # Path to directory containing data.\n",
    "    #   Can be absolute or relative to the base path.\n",
    "    \"DATA_DIR\": str(data_dir), # Needs to be a string so that SuPAErnova can validate it\n",
    "    \n",
    "    # Metadata CSV containing SN names and SALT fit parameters.\n",
    "    #   Can be absolute or relative to the data path.\n",
    "    \"META\": \"meta.csv\",\n",
    "\n",
    "    # TXT file containing additional SALT fit parameters.\n",
    "    #   Can be absolute or relative to the data path.\n",
    "    \"IDR\": \"IDR_eTmax.txt\",\n",
    "\n",
    "    # TXT file containing a mask of bad spectra / wavelength ranges.\n",
    "    #   Can be absolute or relative to the data path.\n",
    "    \"MASK\": \"mask_info_wmin_wmax.txt\",\n",
    "\n",
    "    # === Optional Keys ===\n",
    "\n",
    "    # Which assumed cosmology to use when running SALT models.\n",
    "    #   Available cosmological can be found [here](https://docs.astropy.org/en/stable/cosmology/realizations.html)\n",
    "    #   Defaults to WMAP7\n",
    "    \"COSMOLOGICAL_MODEL\": \"WMAP7\",\n",
    "\n",
    "    # The absolute path to an existing SALT2/3 model, or the name of an existing SNCosmo SALT2/3 model.\n",
    "    #   Defaults to salt3\n",
    "    \"SALT_MODEL\": \"salt3\",\n",
    "\n",
    "    # Minimum phase for spectral data, relative to peak. Spectral data earlier than this phase will be cut.\n",
    "    #   Defaults to -10.0\n",
    "    \"MIN_PHASE\": -10,\n",
    "\n",
    "    # Maximum phase for spectral data, relative to peak. Spectral data later than this phase will be cut.\n",
    "    #   Defaults to 40.0\n",
    "    \"MAX_PHASE\": 40,\n",
    "\n",
    "    # The fraction of data to be used for training, with the rest of the data going to testing and validation.\n",
    "    #   Defaults to 0.75\n",
    "    \"TRAIN_FRAC\": 0.75,\n",
    "\n",
    "    # The seed used throughout data preperation, in particular for randomly splitting the data into training, testing, and validation bins.\n",
    "    #   Defaults to 12345\n",
    "    \"SEED\": 12345,\n",
    "\n",
    "    # === Analysis Keys ===\n",
    "    \"ANALYSIS\": {\n",
    "        # Which spectra to plot\n",
    "        #    str: The name of a single spectrum to plot\n",
    "        #    list[str]: Names of each spectrum to plot\n",
    "        #    True: Plot every spectrum\n",
    "        \"PLOT_SPECTRA\": True\n",
    "    }\n",
    "}\n",
    "\n",
    "cfg[\"DATA\"] = data_cfg\n",
    "data = snpae.steps.DATAStep(cfg)\n",
    "print(data)"
   ]
  },
  {
   "cell_type": "markdown",
   "id": "c0d1e50a-e552-4d1c-84fe-923aeadc65c0",
   "metadata": {},
   "source": [
    "# Setup\n",
    "We can now run the first stage of the `DATA` step, setup. Most `SuPAErnova` functions return an object called a `RequirementReturn[T]`, which is a two-tuple whose first element is `True` if the function ran successfully, and `False` otherwise. The second element is either the result of that function (of type `T`), or a `str` describing why the function failed."
   ]
  },
  {
   "cell_type": "code",
   "execution_count": null,
   "id": "c3dadb65-da07-4c61-ac99-bed28641d423",
   "metadata": {},
   "outputs": [],
   "source": [
    "success, result = data.setup()\n",
    "if not success: # Make sure you handle failures appropriately!\n",
    "    data.log.error(f\"Error running setup: {result}\")\n",
    "print(data)"
   ]
  },
  {
   "cell_type": "markdown",
   "id": "056462d3-093d-4587-ad2d-3e8c81d5e6d5",
   "metadata": {},
   "source": [
    "# Run\n",
    "Now we can run the `DATA` step, loading in the data, transforming it into something useful, and splitting the data into training and tesing subsamples."
   ]
  },
  {
   "cell_type": "code",
   "execution_count": null,
   "id": "bf101920-b2f0-4a65-a3e4-3c1cecd30b5b",
   "metadata": {},
   "outputs": [],
   "source": [
    "success, result = data.run()\n",
    "if not success: # Make sure you handle failures appropriately!\n",
    "    data.log.error(f\"Error running: {result}\")\n",
    "print(data)"
   ]
  },
  {
   "cell_type": "markdown",
   "id": "e5ea406c-42da-460e-9254-4c5003c8c78f",
   "metadata": {},
   "source": [
    "# Result\n",
    "Finally, we run the `DATA` result function, to save the results of the run function to the output directory."
   ]
  },
  {
   "cell_type": "code",
   "execution_count": null,
   "id": "c8ee12e6-f888-473f-a318-5bbedaa43c78",
   "metadata": {},
   "outputs": [],
   "source": [
    "success, result = data.result()\n",
    "if not success: # Make sure you handle failures appropriately!\n",
    "    data.log.error(f\"Error saving results: {result}\")\n",
    "print(data)"
   ]
  },
  {
   "cell_type": "markdown",
   "id": "5f2a4b30-f230-4931-9157-5e311204ef19",
   "metadata": {},
   "source": [
    "# Analysis\n",
    "Though you can obviously write your own plotting and analysis functions, `SuPAErnova` provides a number of pre-made analysis functions you can use. If defined in your `data_cfg` dictionary, thesis analysis functions can be called via the `analyse` function."
   ]
  },
  {
   "cell_type": "code",
   "execution_count": null,
   "id": "9caee339-fe23-494c-bd75-885a5a209fa7",
   "metadata": {},
   "outputs": [],
   "source": [
    "success, result = data.analyse()\n",
    "if not success: # Make sure you handle failures appropriately!\n",
    "    data.log.error(f\"Error analysing: {result}\")\n",
    "\n",
    "img = mpimg.imread(data.plotpath / \"CSS110918_01.png\")\n",
    "imgplot = plt.imshow(img)\n",
    "plt.show()"
   ]
  }
 ],
 "metadata": {
  "kernelspec": {
   "display_name": "Python 3 (ipykernel)",
   "language": "python",
   "name": "python3"
  },
  "language_info": {
   "codemirror_mode": {
    "name": "ipython",
    "version": 3
   },
   "file_extension": ".py",
   "mimetype": "text/x-python",
   "name": "python",
   "nbconvert_exporter": "python",
   "pygments_lexer": "ipython3",
   "version": "3.12.8"
  },
  "widgets": {
   "application/vnd.jupyter.widget-state+json": {
    "state": {},
    "version_major": 2,
    "version_minor": 0
   }
  }
 },
 "nbformat": 4,
 "nbformat_minor": 5
}
